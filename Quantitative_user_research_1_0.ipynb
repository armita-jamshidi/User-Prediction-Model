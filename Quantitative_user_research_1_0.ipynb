{
  "nbformat": 4,
  "nbformat_minor": 0,
  "metadata": {
    "colab": {
      "provenance": [],
      "authorship_tag": "ABX9TyPO1qPjHpXu2LQjOxsyzYv1",
      "include_colab_link": true
    },
    "kernelspec": {
      "name": "python3",
      "display_name": "Python 3"
    },
    "language_info": {
      "name": "python"
    }
  },
  "cells": [
    {
      "cell_type": "markdown",
      "metadata": {
        "id": "view-in-github",
        "colab_type": "text"
      },
      "source": [
        "<a href=\"https://colab.research.google.com/github/armita-jamshidi/user_prediction_model/blob/main/Quantitative_user_research_1_0.ipynb\" target=\"_parent\"><img src=\"https://colab.research.google.com/assets/colab-badge.svg\" alt=\"Open In Colab\"/></a>"
      ]
    },
    {
      "cell_type": "code",
      "source": [
        "#BLOCK 1: Google Authentication, and iterating through each question and answer choice\n",
        "from google.colab import auth\n",
        "auth.authenticate_user()\n",
        "import gspread\n",
        "from google.auth import default\n",
        "creds, _ = default()\n",
        "#Authorizing account\n",
        "gc = gspread.authorize(creds)\n",
        "#Opening sheet\n",
        "worksheet = gc.open('Copy of Samphire Menstrual Health Study').sheet1\n",
        "# get_all_values gives a list of rows.\n",
        "rows = worksheet.get_all_values()\n",
        "\n",
        "# Convert to a DataFrame and render.\n",
        "import pandas as pd\n",
        "import numpy as np\n",
        "df = pd.DataFrame.from_records(rows)\n",
        "\n",
        "#Number of respondents (number of rows)\n",
        "num_responses = len(df)\n",
        "#number of questions (number of columns)\n",
        "num_questions = df.iloc[1].count()\n",
        "\n",
        "\n",
        "#For each question in the dataset -\n",
        "for q in range(num_questions):\n",
        "  the_c = df.iloc[:, q]\n",
        "  counts = the_c.value_counts().keys().tolist()\n",
        "  values = the_c.value_counts().tolist()\n",
        "  #For each response, print out percentage -\n",
        "\n",
        "  for a in range(len(values)):\n",
        "    percentage = (values[a]/num_responses)*100\n",
        "    #worksheet.update_cell(q, a, (\"The number of users who responded with answer choice \" + str(counts[a]) + \" is \" + str(percentage)))\n",
        "    #print(str(counts[a]) + \"# Responses is \" + str(percentage))\n",
        "\n",
        "\n"
      ],
      "metadata": {
        "id": "mkpaCglQxOuR"
      },
      "execution_count": null,
      "outputs": []
    },
    {
      "cell_type": "code",
      "source": [
        "#BLOCK 2 - testing the relationship between user buying a wellness subscription\n",
        "#and the user buying a period tracking subscription\n",
        "\n",
        "from pandas.core.frame import DataFrame\n",
        "import pandas as pd\n",
        "import numpy as np\n",
        "import seaborn as sns\n",
        "from sklearn.metrics import accuracy_score\n",
        "\n",
        "#preprocessing\n",
        "df = pd.read_csv('data.csv')\n",
        "\n",
        "#binary Log. Regression - Paid mobile app subscription vs. Paid period tracking app subscription\n",
        "from sklearn.model_selection import train_test_split\n",
        "import matplotlib.pyplot as plt\n",
        "from sklearn.linear_model import LogisticRegression\n",
        "\n",
        "#PREPROCESSING\n",
        "#deleting rows with no answer\n",
        "df['wellbeing_sub'].replace('', np.nan, inplace=True)\n",
        "df.dropna(subset=['wellbeing_sub'], inplace=True)\n",
        "\n",
        "df['period_tracking_sub'].replace('', np.nan, inplace=True)\n",
        "df.dropna(subset=['period_tracking_sub'], inplace=True)\n",
        "\n",
        "#replacing yes' with 1's and no's with 0's\n",
        "df['wellbeing_sub'].replace({'No, I use free versions of the apps': 0, 'Yes, I pay for subscriptions for one or all selected apps': 1}, inplace=True)\n",
        "df['wellbeing_sub']\n",
        "\n",
        "df['period_tracking_sub'].replace({'No, I use free versions of the apps': 0, 'Yes, I pay for subscriptions for one or all selected apps': 1}, inplace=True)\n",
        "df['period_tracking_sub']\n",
        "\n",
        "X = df[['wellbeing_sub']]\n",
        "y = df['period_tracking_sub']\n",
        "\n",
        "X_train, X_test, y_train, y_test = train_test_split(X, y, test_size=0.2, random_state=42)\n",
        "\n",
        "logreg = LogisticRegression()\n",
        "logreg.fit(X, y)\n",
        "\n",
        "y_pred = logreg.predict(X_test)\n",
        "score = accuracy_score(y_test, y_pred)\n",
        "\n",
        "# Plotting logreg curve\n",
        "x = df['wellbeing_sub']\n",
        "#sns.regplot(x=x, y=y, data=df, logistic=True, ci=None)\n",
        "\n",
        "#TEST 2 - reverse relationship\n",
        "y = df[['wellbeing_sub']]\n",
        "x = df['period_tracking_sub']\n",
        "sns.regplot(x=x, y=y, data=df, logistic=True, ci=None)\n",
        "\n",
        "#number of people who responded to each\n",
        "no_wellbeing = df.loc[(df['period_tracking_sub'] == 0)]\n",
        "len(no_wellbeing)\n"
      ],
      "metadata": {
        "colab": {
          "base_uri": "https://localhost:8080/",
          "height": 467
        },
        "id": "YGPUn7HyBDEK",
        "outputId": "f34ca657-4bdc-4e9c-ccc2-cb12d9dcf91e"
      },
      "execution_count": null,
      "outputs": [
        {
          "output_type": "execute_result",
          "data": {
            "text/plain": [
              "33"
            ]
          },
          "metadata": {},
          "execution_count": 5
        },
        {
          "output_type": "display_data",
          "data": {
            "text/plain": [
              "<Figure size 640x480 with 1 Axes>"
            ],
            "image/png": "[encoded data removed]"
          },
          "metadata": {}
        }
      ]
    },
    {
      "cell_type": "code",
      "source": [
        "#BLOCK 3 - testing relationship between having period cramps and buying wearable technology\n",
        "\n",
        "from pandas.core.frame import DataFrame\n",
        "import pandas as pd\n",
        "import numpy as np\n",
        "import seaborn as sns\n",
        "from sklearn.metrics import accuracy_score\n",
        "\n",
        "#preprocessing\n",
        "df = pd.read_csv('data.csv')\n",
        "\n",
        "from sklearn.model_selection import train_test_split\n",
        "import matplotlib.pyplot as plt\n",
        "from sklearn.linear_model import LogisticRegression\n",
        "\n",
        "#PREPROCESSING\n",
        "#replacing True with 1 and False with 0\n",
        "df['smart_watch'].replace({'False': 0, 'True': 1}, inplace=True)\n",
        "df['smart_watch']\n",
        "\n",
        "df['fitness_tracker'].replace({'False': 0, 'True': 1}, inplace=True)\n",
        "df['fitness_tracker']\n",
        "\n",
        "df['jewellery'].replace({'False': 0, 'True': 1}, inplace=True)\n",
        "df['jewellery']\n",
        "\n",
        "df['other'].replace({'False': 0, 'True': 1}, inplace=True)\n",
        "df['other']\n",
        "\n",
        "#dependent\n",
        "df['cramps'].replace({'False': 0, 'True': 1}, inplace=True)\n",
        "df['cramps']\n",
        "\n",
        "#PLOTTING 1 - CRAMPS VS. SMART WEARABLES\n",
        "# Plotting logreg curve - cramps vs. smart_watch\n",
        "x = df['cramps']\n",
        "y = df['smart_watch']\n",
        "#sns.regplot(x=x, y=y, data=df, logistic=True, ci=None)\n",
        "\n",
        "# Plotting logreg curve - cramps vs. fitness_tracker\n",
        "x = df['cramps']\n",
        "y = df['fitness_tracker']\n",
        "#sns.regplot(x=x, y=y, data=df, logistic=True, ci=None)\n",
        "\n",
        "# Plotting logreg curve - cramps vs. jewellery\n",
        "x = df['cramps']\n",
        "y = df['jewellery']\n",
        "#sns.regplot(x=x, y=y, data=df, logistic=True, ci=None)\n",
        "\n",
        "# Plotting logreg curve - cramps vs. None of the above\n",
        "x = df['cramps']\n",
        "y = df['other']\n",
        "#sns.regplot(x=x, y=y, data=df, logistic=True, ci=None)\n",
        "\n",
        "#PLOTTING 2 - MOOD SWINGS VS. SMART WEARABLES\n",
        "#fitness tracker\n",
        "x = df['mood_swings']\n",
        "y = df['fitness_tracker']\n",
        "sns.regplot(x=x, y=y, data=df, logistic=True, ci=None)\n",
        "\n",
        "x = df['mood_swings']\n",
        "y = df['smart_watch']\n",
        "sns.regplot(x=x, y=y, data=df, logistic=True, ci=None)\n",
        "\n",
        "x = df['mood_swings']\n",
        "y = df['jewellery']\n",
        "sns.regplot(x=x, y=y, data=df, logistic=True, ci=None)\n",
        "\n",
        "x = df['mood_swings']\n",
        "y = df['other']\n",
        "sns.regplot(x=x, y=y, data=df, logistic=True, ci=None)\n",
        "\n",
        "#number of people who responded to each\n",
        "no_wellbeing = df.loc[(df['other'] == 0)]\n",
        "len(no_wellbeing)\n"
      ],
      "metadata": {
        "colab": {
          "base_uri": "https://localhost:8080/",
          "height": 467
        },
        "id": "BM9qb0odKgQE",
        "outputId": "62cdcc34-2c0d-43c5-81bd-079f118ba2c8"
      },
      "execution_count": null,
      "outputs": [
        {
          "output_type": "execute_result",
          "data": {
            "text/plain": [
              "32"
            ]
          },
          "metadata": {},
          "execution_count": 84
        },
        {
          "output_type": "display_data",
          "data": {
            "text/plain": [
              "<Figure size 640x480 with 1 Axes>"
            ],
            "image/png": "[encoded data removed]"
          },
          "metadata": {}
        }
      ]
    },
    {
      "cell_type": "code",
      "source": [
        "#BLOCK 4 - predicting whether someone has cramps based on which wearable device they have\n",
        "#Predicting if someone has certain devices, the likelihood that they have cramps\n",
        "X = df[['smart_watch', 'fitness_tracker', 'jewellery', 'other']]\n",
        "y = df['cramps']\n",
        "\n",
        "X_train, X_test, y_train, y_test = train_test_split(X, y, test_size=0.2, random_state=42)\n",
        "\n",
        "logreg = LogisticRegression(class_weight = 'balanced')\n",
        "logreg.fit(X, y)\n",
        "\n",
        "#SAMPLE DATA READ\n",
        "#Obs = pd.read_csv('t_f_cramp_data.csv')\n",
        "# y_pred = logreg.predict(X_test)\n",
        "\n",
        "# newData = Obs.values\n",
        "# y_pred = logreg.predict(newData)\n",
        "# y_pred\n",
        "\n",
        "#Sample data without pre-processing\n",
        "Obs = pd.read_csv('t_f_cramp_data.csv')\n",
        "Obs['smart_watch'] = Obs['smart_watch'].replace({False: 0, True: 1}, regex=True)\n",
        "Obs['fitness_tracker'] = Obs['fitness_tracker'].replace({False: 0, True: 1}, regex=True)\n",
        "Obs['jewellery'] = Obs['jewellery'].replace({False: 0, True: 1}, regex=True)\n",
        "Obs['other'] = Obs['other'].replace({False: 0, True: 1}, regex=True)\n",
        "\n",
        "# y_pred = logreg.predict(X_test)\n",
        "\n",
        "newData = Obs.values\n",
        "y_pred = logreg.predict(newData)\n",
        "y_pred"
      ],
      "metadata": {
        "colab": {
          "base_uri": "https://localhost:8080/"
        },
        "id": "4CyHq_g7Eq7O",
        "outputId": "17b61323-01ff-4c3e-b084-6aa401067735"
      },
      "execution_count": null,
      "outputs": [
        {
          "output_type": "stream",
          "name": "stderr",
          "text": [
            "/usr/local/lib/python3.10/dist-packages/sklearn/base.py:439: UserWarning: X does not have valid feature names, but LogisticRegression was fitted with feature names\n",
            "  warnings.warn(\n"
          ]
        },
        {
          "output_type": "execute_result",
          "data": {
            "text/plain": [
              "array([ True,  True,  True, False])"
            ]
          },
          "metadata": {},
          "execution_count": 13
        }
      ]
    },
    {
      "cell_type": "code",
      "source": [
        "#BLOCK 5 - predicting whether someone has mood swings based on which wearable device they have\n",
        "#Predicting if someone has certain devices, the likelihood that they have cramps\n",
        "X = df[['smart_watch', 'fitness_tracker', 'jewellery', 'other']]\n",
        "y = df['mood_swings']\n",
        "\n",
        "X_train, X_test, y_train, y_test = train_test_split(X, y, test_size=0.2, random_state=42)\n",
        "\n",
        "logreg = LogisticRegression(class_weight = 'balanced')\n",
        "logreg.fit(X, y)\n",
        "\n",
        "#Sample data without pre-processing\n",
        "#WITHOUT PREPROCESSING THE DATA\n",
        "Obs = pd.read_csv('t_f_cramp_data2.csv')\n",
        "Obs['smart_watch'] = Obs['smart_watch'].replace({False: 0, True: 1}, regex=True)\n",
        "Obs['fitness_tracker'] = Obs['fitness_tracker'].replace({False: 0, True: 1}, regex=True)\n",
        "Obs['jewellery'] = Obs['jewellery'].replace({False: 0, True: 1}, regex=True)\n",
        "Obs['other'] = Obs['other'].replace({False: 0, True: 1}, regex=True)\n",
        "\n",
        "newData = Obs.values\n",
        "y_pred = logreg.predict(newData)\n",
        "y_pred\n"
      ],
      "metadata": {
        "colab": {
          "base_uri": "https://localhost:8080/"
        },
        "id": "mwWlz7HEFqq0",
        "outputId": "3edc1477-41ad-4598-8109-24eea19a2d90"
      },
      "execution_count": null,
      "outputs": [
        {
          "output_type": "stream",
          "name": "stderr",
          "text": [
            "/usr/local/lib/python3.10/dist-packages/sklearn/base.py:439: UserWarning: X does not have valid feature names, but LogisticRegression was fitted with feature names\n",
            "  warnings.warn(\n"
          ]
        },
        {
          "output_type": "execute_result",
          "data": {
            "text/plain": [
              "array([False, False,  True,  True])"
            ]
          },
          "metadata": {},
          "execution_count": 154
        }
      ]
    },
    {
      "cell_type": "code",
      "source": [
        "#BLOCK 6 - testing if data demonstrate a normal distribution, and if so\n",
        "#conducting Chi-Squared test to determine if there is a statistically significant relationship\n",
        "from scipy.stats import ttest_rel\n",
        "import scipy.stats as sp\n",
        "import pandas as pd\n",
        "df = pd.read_csv('data.csv')\n",
        "\n",
        "df['wellbeing_sub'].replace({'No, I use free versions of the apps': 0, 'Yes, I pay for subscriptions for one or all selected apps': 1}, inplace=True)\n",
        "df['period_tracking_sub'].replace({'No, I use free versions of the apps': 0, 'Yes, I pay for subscriptions for one or all selected apps': 1}, inplace=True)\n",
        "\n",
        "df=df.dropna(subset=['wellbeing_sub', 'period_tracking_sub'])\n",
        "#sp.stats.ttest_ind(df.dropna()['period_tracking_sub'], df.dropna()['wellbeing_sub'])\n",
        "x = df.query('period_tracking_sub == \"Yes, I pay for subscriptions for one or all selected apps\"')['wellbeing_sub']\n",
        "y = df.query('period_tracking_sub == \"No, I use free versions of the apps\"')['wellbeing_sub']\n",
        "\n",
        "#wellbeing vs. period tracking - not normally distributed\n",
        "\n",
        "import math\n",
        "import numpy as np\n",
        "from scipy.stats import lognorm\n",
        "import matplotlib.pyplot as plt\n",
        "\n",
        "#make this example reproducible\n",
        "np.random.seed(1)\n",
        "\n",
        "#generate dataset that contains 1000 log-normal distributed values\n",
        "lognorm_dataset = lognorm.rvs(s=.5, scale=math.exp(1), size=1000)\n",
        "\n",
        "#create histogram to visualize wellbeing\n",
        "wellbeing = df.loc[:,\"wellbeing_sub\"]\n",
        "#plt.hist(wellbeing, edgecolor='black', bins=20)\n",
        "\n",
        "#create histogram to visualize period subscription\n",
        "p = df.loc[:,\"period_tracking_sub\"]\n",
        "#plt.hist(p, edgecolor='black', bins=20)\n",
        "\n",
        "\n",
        "#chi squared test\n",
        "from scipy.stats import chisquare, chi2_contingency, chi2\n",
        "\n",
        "#chisquare(df['wellbeing_sub'].value_counts())\n",
        "#chisquare(df['period_tracking_sub'].value_counts())\n",
        "\n",
        "# stat, p, dof, expected = chi2_contingency(df)\n",
        "# str(p)\n",
        "\n",
        "#testing if fashion teach and cramps are normally distirbuted\n",
        "chisquare(df['cramps'].value_counts())\n",
        "chisquare(df['smart_watch'].value_counts())\n",
        "chisquare(df['fitness_tracker'].value_counts())\n",
        "chisquare(df['jewellery'].value_counts())\n",
        "chisquare(df['other'].value_counts())\n",
        "\n",
        "#testing normal distribution of other symptoms\n",
        "#chisquare(df['anxiety'].value_counts())\n",
        "#chisquare(df['irritability'].value_counts())\n",
        "#chisquare(df['anger'].value_counts())\n",
        "#chisquare(df['fog'].value_counts())\n",
        "#chisquare(df['fatigue'].value_counts())\n",
        "#chisquare(df['other'].value_counts())\n",
        "\n",
        "#Chi-Squared test with normally distributed data\n",
        "\n",
        "#mood swings and smart watch\n",
        "contingencyTable = pd.crosstab(df['smart_watch'],df['mood_swings'])\n",
        "#print(contingencyTable)\n",
        "stat, p, dof, expected = chi2_contingency(contingencyTable)\n",
        "critical = chi2.ppf(0.95, dof)\n",
        "\n",
        "# if abs(stat) >= critical:\n",
        "#     print('Dependent (reject H0)')\n",
        "# else:\n",
        "#     print('Independent (fail to reject H0)')\n",
        "\n",
        "#testing which sources of media are normally distributed\n",
        "chisquare(df['professionals'].value_counts())\n",
        "chisquare(df['peers'].value_counts())\n",
        "chisquare(df['blogs'].value_counts())\n",
        "chisquare(df['papers'].value_counts())\n",
        "chisquare(df['apps'].value_counts())\n",
        "chisquare(df['books'].value_counts())\n",
        "chisquare(df['na'].value_counts())\n",
        "chisquare(df['breast_tenderness'].value_counts())\n",
        "\n",
        "\n",
        "#Chi-test with media\n",
        "# contingencyTable = pd.crosstab(df['fog'],df['books'])\n",
        "# print(contingencyTable)\n",
        "# stat, p, dof, expected = chi2_contingency(contingencyTable)\n",
        "# critical = chi2.ppf(0.95, dof)\n",
        "\n",
        "# print(str(stat))\n",
        "# print(str(critical))\n",
        "# if abs(stat) >= critical:\n",
        "#      print('Dependent (reject H0)')\n",
        "# else:\n",
        "#      print('Independent (fail to reject H0)')\n"
      ],
      "metadata": {
        "colab": {
          "base_uri": "https://localhost:8080/",
          "height": 415
        },
        "id": "uwODcafFOL8k",
        "outputId": "085465ea-db76-46c5-991b-0946f6de6338"
      },
      "execution_count": null,
      "outputs": [
        {
          "output_type": "error",
          "ename": "FileNotFoundError",
          "evalue": "ignored",
          "traceback": [
            "\u001b[0;31m---------------------------------------------------------------------------\u001b[0m",
            "\u001b[0;31mFileNotFoundError\u001b[0m                         Traceback (most recent call last)",
            "\u001b[0;32m<ipython-input-1-c29e3cec040d>\u001b[0m in \u001b[0;36m<cell line: 6>\u001b[0;34m()\u001b[0m\n\u001b[1;32m      4\u001b[0m \u001b[0;32mimport\u001b[0m \u001b[0mscipy\u001b[0m\u001b[0;34m.\u001b[0m\u001b[0mstats\u001b[0m \u001b[0;32mas\u001b[0m \u001b[0msp\u001b[0m\u001b[0;34m\u001b[0m\u001b[0;34m\u001b[0m\u001b[0m\n\u001b[1;32m      5\u001b[0m \u001b[0;32mimport\u001b[0m \u001b[0mpandas\u001b[0m \u001b[0;32mas\u001b[0m \u001b[0mpd\u001b[0m\u001b[0;34m\u001b[0m\u001b[0;34m\u001b[0m\u001b[0m\n\u001b[0;32m----> 6\u001b[0;31m \u001b[0mdf\u001b[0m \u001b[0;34m=\u001b[0m \u001b[0mpd\u001b[0m\u001b[0;34m.\u001b[0m\u001b[0mread_csv\u001b[0m\u001b[0;34m(\u001b[0m\u001b[0;34m'data.csv'\u001b[0m\u001b[0;34m)\u001b[0m\u001b[0;34m\u001b[0m\u001b[0;34m\u001b[0m\u001b[0m\n\u001b[0m\u001b[1;32m      7\u001b[0m \u001b[0;34m\u001b[0m\u001b[0m\n\u001b[1;32m      8\u001b[0m \u001b[0mdf\u001b[0m\u001b[0;34m[\u001b[0m\u001b[0;34m'wellbeing_sub'\u001b[0m\u001b[0;34m]\u001b[0m\u001b[0;34m.\u001b[0m\u001b[0mreplace\u001b[0m\u001b[0;34m(\u001b[0m\u001b[0;34m{\u001b[0m\u001b[0;34m'No, I use free versions of the apps'\u001b[0m\u001b[0;34m:\u001b[0m \u001b[0;36m0\u001b[0m\u001b[0;34m,\u001b[0m \u001b[0;34m'Yes, I pay for subscriptions for one or all selected apps'\u001b[0m\u001b[0;34m:\u001b[0m \u001b[0;36m1\u001b[0m\u001b[0;34m}\u001b[0m\u001b[0;34m,\u001b[0m \u001b[0minplace\u001b[0m\u001b[0;34m=\u001b[0m\u001b[0;32mTrue\u001b[0m\u001b[0;34m)\u001b[0m\u001b[0;34m\u001b[0m\u001b[0;34m\u001b[0m\u001b[0m\n",
            "\u001b[0;32m/usr/local/lib/python3.10/dist-packages/pandas/util/_decorators.py\u001b[0m in \u001b[0;36mwrapper\u001b[0;34m(*args, **kwargs)\u001b[0m\n\u001b[1;32m    209\u001b[0m                 \u001b[0;32melse\u001b[0m\u001b[0;34m:\u001b[0m\u001b[0;34m\u001b[0m\u001b[0;34m\u001b[0m\u001b[0m\n\u001b[1;32m    210\u001b[0m                     \u001b[0mkwargs\u001b[0m\u001b[0;34m[\u001b[0m\u001b[0mnew_arg_name\u001b[0m\u001b[0;34m]\u001b[0m \u001b[0;34m=\u001b[0m \u001b[0mnew_arg_value\u001b[0m\u001b[0;34m\u001b[0m\u001b[0;34m\u001b[0m\u001b[0m\n\u001b[0;32m--> 211\u001b[0;31m             \u001b[0;32mreturn\u001b[0m \u001b[0mfunc\u001b[0m\u001b[0;34m(\u001b[0m\u001b[0;34m*\u001b[0m\u001b[0margs\u001b[0m\u001b[0;34m,\u001b[0m \u001b[0;34m**\u001b[0m\u001b[0mkwargs\u001b[0m\u001b[0;34m)\u001b[0m\u001b[0;34m\u001b[0m\u001b[0;34m\u001b[0m\u001b[0m\n\u001b[0m\u001b[1;32m    212\u001b[0m \u001b[0;34m\u001b[0m\u001b[0m\n\u001b[1;32m    213\u001b[0m         \u001b[0;32mreturn\u001b[0m \u001b[0mcast\u001b[0m\u001b[0;34m(\u001b[0m\u001b[0mF\u001b[0m\u001b[0;34m,\u001b[0m \u001b[0mwrapper\u001b[0m\u001b[0;34m)\u001b[0m\u001b[0;34m\u001b[0m\u001b[0;34m\u001b[0m\u001b[0m\n",
            "\u001b[0;32m/usr/local/lib/python3.10/dist-packages/pandas/util/_decorators.py\u001b[0m in \u001b[0;36mwrapper\u001b[0;34m(*args, **kwargs)\u001b[0m\n\u001b[1;32m    329\u001b[0m                     \u001b[0mstacklevel\u001b[0m\u001b[0;34m=\u001b[0m\u001b[0mfind_stack_level\u001b[0m\u001b[0;34m(\u001b[0m\u001b[0;34m)\u001b[0m\u001b[0;34m,\u001b[0m\u001b[0;34m\u001b[0m\u001b[0;34m\u001b[0m\u001b[0m\n\u001b[1;32m    330\u001b[0m                 )\n\u001b[0;32m--> 331\u001b[0;31m             \u001b[0;32mreturn\u001b[0m \u001b[0mfunc\u001b[0m\u001b[0;34m(\u001b[0m\u001b[0;34m*\u001b[0m\u001b[0margs\u001b[0m\u001b[0;34m,\u001b[0m \u001b[0;34m**\u001b[0m\u001b[0mkwargs\u001b[0m\u001b[0;34m)\u001b[0m\u001b[0;34m\u001b[0m\u001b[0;34m\u001b[0m\u001b[0m\n\u001b[0m\u001b[1;32m    332\u001b[0m \u001b[0;34m\u001b[0m\u001b[0m\n\u001b[1;32m    333\u001b[0m         \u001b[0;31m# error: \"Callable[[VarArg(Any), KwArg(Any)], Any]\" has no\u001b[0m\u001b[0;34m\u001b[0m\u001b[0;34m\u001b[0m\u001b[0m\n",
            "\u001b[0;32m/usr/local/lib/python3.10/dist-packages/pandas/io/parsers/readers.py\u001b[0m in \u001b[0;36mread_csv\u001b[0;34m(filepath_or_buffer, sep, delimiter, header, names, index_col, usecols, squeeze, prefix, mangle_dupe_cols, dtype, engine, converters, true_values, false_values, skipinitialspace, skiprows, skipfooter, nrows, na_values, keep_default_na, na_filter, verbose, skip_blank_lines, parse_dates, infer_datetime_format, keep_date_col, date_parser, dayfirst, cache_dates, iterator, chunksize, compression, thousands, decimal, lineterminator, quotechar, quoting, doublequote, escapechar, comment, encoding, encoding_errors, dialect, error_bad_lines, warn_bad_lines, on_bad_lines, delim_whitespace, low_memory, memory_map, float_precision, storage_options)\u001b[0m\n\u001b[1;32m    948\u001b[0m     \u001b[0mkwds\u001b[0m\u001b[0;34m.\u001b[0m\u001b[0mupdate\u001b[0m\u001b[0;34m(\u001b[0m\u001b[0mkwds_defaults\u001b[0m\u001b[0;34m)\u001b[0m\u001b[0;34m\u001b[0m\u001b[0;34m\u001b[0m\u001b[0m\n\u001b[1;32m    949\u001b[0m \u001b[0;34m\u001b[0m\u001b[0m\n\u001b[0;32m--> 950\u001b[0;31m     \u001b[0;32mreturn\u001b[0m \u001b[0m_read\u001b[0m\u001b[0;34m(\u001b[0m\u001b[0mfilepath_or_buffer\u001b[0m\u001b[0;34m,\u001b[0m \u001b[0mkwds\u001b[0m\u001b[0;34m)\u001b[0m\u001b[0;34m\u001b[0m\u001b[0;34m\u001b[0m\u001b[0m\n\u001b[0m\u001b[1;32m    951\u001b[0m \u001b[0;34m\u001b[0m\u001b[0m\n\u001b[1;32m    952\u001b[0m \u001b[0;34m\u001b[0m\u001b[0m\n",
            "\u001b[0;32m/usr/local/lib/python3.10/dist-packages/pandas/io/parsers/readers.py\u001b[0m in \u001b[0;36m_read\u001b[0;34m(filepath_or_buffer, kwds)\u001b[0m\n\u001b[1;32m    603\u001b[0m \u001b[0;34m\u001b[0m\u001b[0m\n\u001b[1;32m    604\u001b[0m     \u001b[0;31m# Create the parser.\u001b[0m\u001b[0;34m\u001b[0m\u001b[0;34m\u001b[0m\u001b[0m\n\u001b[0;32m--> 605\u001b[0;31m     \u001b[0mparser\u001b[0m \u001b[0;34m=\u001b[0m \u001b[0mTextFileReader\u001b[0m\u001b[0;34m(\u001b[0m\u001b[0mfilepath_or_buffer\u001b[0m\u001b[0;34m,\u001b[0m \u001b[0;34m**\u001b[0m\u001b[0mkwds\u001b[0m\u001b[0;34m)\u001b[0m\u001b[0;34m\u001b[0m\u001b[0;34m\u001b[0m\u001b[0m\n\u001b[0m\u001b[1;32m    606\u001b[0m \u001b[0;34m\u001b[0m\u001b[0m\n\u001b[1;32m    607\u001b[0m     \u001b[0;32mif\u001b[0m \u001b[0mchunksize\u001b[0m \u001b[0;32mor\u001b[0m \u001b[0miterator\u001b[0m\u001b[0;34m:\u001b[0m\u001b[0;34m\u001b[0m\u001b[0;34m\u001b[0m\u001b[0m\n",
            "\u001b[0;32m/usr/local/lib/python3.10/dist-packages/pandas/io/parsers/readers.py\u001b[0m in \u001b[0;36m__init__\u001b[0;34m(self, f, engine, **kwds)\u001b[0m\n\u001b[1;32m   1440\u001b[0m \u001b[0;34m\u001b[0m\u001b[0m\n\u001b[1;32m   1441\u001b[0m         \u001b[0mself\u001b[0m\u001b[0;34m.\u001b[0m\u001b[0mhandles\u001b[0m\u001b[0;34m:\u001b[0m \u001b[0mIOHandles\u001b[0m \u001b[0;34m|\u001b[0m \u001b[0;32mNone\u001b[0m \u001b[0;34m=\u001b[0m \u001b[0;32mNone\u001b[0m\u001b[0;34m\u001b[0m\u001b[0;34m\u001b[0m\u001b[0m\n\u001b[0;32m-> 1442\u001b[0;31m         \u001b[0mself\u001b[0m\u001b[0;34m.\u001b[0m\u001b[0m_engine\u001b[0m \u001b[0;34m=\u001b[0m \u001b[0mself\u001b[0m\u001b[0;34m.\u001b[0m\u001b[0m_make_engine\u001b[0m\u001b[0;34m(\u001b[0m\u001b[0mf\u001b[0m\u001b[0;34m,\u001b[0m \u001b[0mself\u001b[0m\u001b[0;34m.\u001b[0m\u001b[0mengine\u001b[0m\u001b[0;34m)\u001b[0m\u001b[0;34m\u001b[0m\u001b[0;34m\u001b[0m\u001b[0m\n\u001b[0m\u001b[1;32m   1443\u001b[0m \u001b[0;34m\u001b[0m\u001b[0m\n\u001b[1;32m   1444\u001b[0m     \u001b[0;32mdef\u001b[0m \u001b[0mclose\u001b[0m\u001b[0;34m(\u001b[0m\u001b[0mself\u001b[0m\u001b[0;34m)\u001b[0m \u001b[0;34m->\u001b[0m \u001b[0;32mNone\u001b[0m\u001b[0;34m:\u001b[0m\u001b[0;34m\u001b[0m\u001b[0;34m\u001b[0m\u001b[0m\n",
            "\u001b[0;32m/usr/local/lib/python3.10/dist-packages/pandas/io/parsers/readers.py\u001b[0m in \u001b[0;36m_make_engine\u001b[0;34m(self, f, engine)\u001b[0m\n\u001b[1;32m   1733\u001b[0m                 \u001b[0;32mif\u001b[0m \u001b[0;34m\"b\"\u001b[0m \u001b[0;32mnot\u001b[0m \u001b[0;32min\u001b[0m \u001b[0mmode\u001b[0m\u001b[0;34m:\u001b[0m\u001b[0;34m\u001b[0m\u001b[0;34m\u001b[0m\u001b[0m\n\u001b[1;32m   1734\u001b[0m                     \u001b[0mmode\u001b[0m \u001b[0;34m+=\u001b[0m \u001b[0;34m\"b\"\u001b[0m\u001b[0;34m\u001b[0m\u001b[0;34m\u001b[0m\u001b[0m\n\u001b[0;32m-> 1735\u001b[0;31m             self.handles = get_handle(\n\u001b[0m\u001b[1;32m   1736\u001b[0m                 \u001b[0mf\u001b[0m\u001b[0;34m,\u001b[0m\u001b[0;34m\u001b[0m\u001b[0;34m\u001b[0m\u001b[0m\n\u001b[1;32m   1737\u001b[0m                 \u001b[0mmode\u001b[0m\u001b[0;34m,\u001b[0m\u001b[0;34m\u001b[0m\u001b[0;34m\u001b[0m\u001b[0m\n",
            "\u001b[0;32m/usr/local/lib/python3.10/dist-packages/pandas/io/common.py\u001b[0m in \u001b[0;36mget_handle\u001b[0;34m(path_or_buf, mode, encoding, compression, memory_map, is_text, errors, storage_options)\u001b[0m\n\u001b[1;32m    854\u001b[0m         \u001b[0;32mif\u001b[0m \u001b[0mioargs\u001b[0m\u001b[0;34m.\u001b[0m\u001b[0mencoding\u001b[0m \u001b[0;32mand\u001b[0m \u001b[0;34m\"b\"\u001b[0m \u001b[0;32mnot\u001b[0m \u001b[0;32min\u001b[0m \u001b[0mioargs\u001b[0m\u001b[0;34m.\u001b[0m\u001b[0mmode\u001b[0m\u001b[0;34m:\u001b[0m\u001b[0;34m\u001b[0m\u001b[0;34m\u001b[0m\u001b[0m\n\u001b[1;32m    855\u001b[0m             \u001b[0;31m# Encoding\u001b[0m\u001b[0;34m\u001b[0m\u001b[0;34m\u001b[0m\u001b[0m\n\u001b[0;32m--> 856\u001b[0;31m             handle = open(\n\u001b[0m\u001b[1;32m    857\u001b[0m                 \u001b[0mhandle\u001b[0m\u001b[0;34m,\u001b[0m\u001b[0;34m\u001b[0m\u001b[0;34m\u001b[0m\u001b[0m\n\u001b[1;32m    858\u001b[0m                 \u001b[0mioargs\u001b[0m\u001b[0;34m.\u001b[0m\u001b[0mmode\u001b[0m\u001b[0;34m,\u001b[0m\u001b[0;34m\u001b[0m\u001b[0;34m\u001b[0m\u001b[0m\n",
            "\u001b[0;31mFileNotFoundError\u001b[0m: [Errno 2] No such file or directory: 'data.csv'"
          ]
        }
      ]
    },
    {
      "cell_type": "code",
      "source": [
        "#BLOCK 7 Statistically significant data -\n",
        "x = df['fog']\n",
        "y = df['books']\n",
        "#sns.regplot(x=x, y=y, data=df, logistic=True, ci=None)\n"
      ],
      "metadata": {
        "colab": {
          "base_uri": "https://localhost:8080/",
          "height": 502
        },
        "id": "I_F3M-OPheB0",
        "outputId": "48a25c33-f5b4-4054-998a-77d513a041db"
      },
      "execution_count": null,
      "outputs": [
        {
          "output_type": "error",
          "ename": "KeyError",
          "evalue": "ignored",
          "traceback": [
            "\u001b[0;31m---------------------------------------------------------------------------\u001b[0m",
            "\u001b[0;31mKeyError\u001b[0m                                  Traceback (most recent call last)",
            "\u001b[0;32m/usr/local/lib/python3.10/dist-packages/pandas/core/indexes/base.py\u001b[0m in \u001b[0;36mget_loc\u001b[0;34m(self, key, method, tolerance)\u001b[0m\n\u001b[1;32m   3801\u001b[0m             \u001b[0;32mtry\u001b[0m\u001b[0;34m:\u001b[0m\u001b[0;34m\u001b[0m\u001b[0;34m\u001b[0m\u001b[0m\n\u001b[0;32m-> 3802\u001b[0;31m                 \u001b[0;32mreturn\u001b[0m \u001b[0mself\u001b[0m\u001b[0;34m.\u001b[0m\u001b[0m_engine\u001b[0m\u001b[0;34m.\u001b[0m\u001b[0mget_loc\u001b[0m\u001b[0;34m(\u001b[0m\u001b[0mcasted_key\u001b[0m\u001b[0;34m)\u001b[0m\u001b[0;34m\u001b[0m\u001b[0;34m\u001b[0m\u001b[0m\n\u001b[0m\u001b[1;32m   3803\u001b[0m             \u001b[0;32mexcept\u001b[0m \u001b[0mKeyError\u001b[0m \u001b[0;32mas\u001b[0m \u001b[0merr\u001b[0m\u001b[0;34m:\u001b[0m\u001b[0;34m\u001b[0m\u001b[0;34m\u001b[0m\u001b[0m\n",
            "\u001b[0;32m/usr/local/lib/python3.10/dist-packages/pandas/_libs/index.pyx\u001b[0m in \u001b[0;36mpandas._libs.index.IndexEngine.get_loc\u001b[0;34m()\u001b[0m\n",
            "\u001b[0;32m/usr/local/lib/python3.10/dist-packages/pandas/_libs/index.pyx\u001b[0m in \u001b[0;36mpandas._libs.index.IndexEngine.get_loc\u001b[0;34m()\u001b[0m\n",
            "\u001b[0;32mpandas/_libs/hashtable_class_helper.pxi\u001b[0m in \u001b[0;36mpandas._libs.hashtable.PyObjectHashTable.get_item\u001b[0;34m()\u001b[0m\n",
            "\u001b[0;32mpandas/_libs/hashtable_class_helper.pxi\u001b[0m in \u001b[0;36mpandas._libs.hashtable.PyObjectHashTable.get_item\u001b[0;34m()\u001b[0m\n",
            "\u001b[0;31mKeyError\u001b[0m: 'books'",
            "\nThe above exception was the direct cause of the following exception:\n",
            "\u001b[0;31mKeyError\u001b[0m                                  Traceback (most recent call last)",
            "\u001b[0;32m<ipython-input-14-da4c32a9ed0e>\u001b[0m in \u001b[0;36m<cell line: 3>\u001b[0;34m()\u001b[0m\n\u001b[1;32m      1\u001b[0m \u001b[0;31m#BLOCK 7 Statistically significant data -\u001b[0m\u001b[0;34m\u001b[0m\u001b[0;34m\u001b[0m\u001b[0m\n\u001b[1;32m      2\u001b[0m \u001b[0mx\u001b[0m \u001b[0;34m=\u001b[0m \u001b[0mdf\u001b[0m\u001b[0;34m[\u001b[0m\u001b[0;34m'fog'\u001b[0m\u001b[0;34m]\u001b[0m\u001b[0;34m\u001b[0m\u001b[0;34m\u001b[0m\u001b[0m\n\u001b[0;32m----> 3\u001b[0;31m \u001b[0my\u001b[0m \u001b[0;34m=\u001b[0m \u001b[0mdf\u001b[0m\u001b[0;34m[\u001b[0m\u001b[0;34m'books'\u001b[0m\u001b[0;34m]\u001b[0m\u001b[0;34m\u001b[0m\u001b[0;34m\u001b[0m\u001b[0m\n\u001b[0m\u001b[1;32m      4\u001b[0m \u001b[0;31m#sns.regplot(x=x, y=y, data=df, logistic=True, ci=None)\u001b[0m\u001b[0;34m\u001b[0m\u001b[0;34m\u001b[0m\u001b[0m\n",
            "\u001b[0;32m/usr/local/lib/python3.10/dist-packages/pandas/core/frame.py\u001b[0m in \u001b[0;36m__getitem__\u001b[0;34m(self, key)\u001b[0m\n\u001b[1;32m   3805\u001b[0m             \u001b[0;32mif\u001b[0m \u001b[0mself\u001b[0m\u001b[0;34m.\u001b[0m\u001b[0mcolumns\u001b[0m\u001b[0;34m.\u001b[0m\u001b[0mnlevels\u001b[0m \u001b[0;34m>\u001b[0m \u001b[0;36m1\u001b[0m\u001b[0;34m:\u001b[0m\u001b[0;34m\u001b[0m\u001b[0;34m\u001b[0m\u001b[0m\n\u001b[1;32m   3806\u001b[0m                 \u001b[0;32mreturn\u001b[0m \u001b[0mself\u001b[0m\u001b[0;34m.\u001b[0m\u001b[0m_getitem_multilevel\u001b[0m\u001b[0;34m(\u001b[0m\u001b[0mkey\u001b[0m\u001b[0;34m)\u001b[0m\u001b[0;34m\u001b[0m\u001b[0;34m\u001b[0m\u001b[0m\n\u001b[0;32m-> 3807\u001b[0;31m             \u001b[0mindexer\u001b[0m \u001b[0;34m=\u001b[0m \u001b[0mself\u001b[0m\u001b[0;34m.\u001b[0m\u001b[0mcolumns\u001b[0m\u001b[0;34m.\u001b[0m\u001b[0mget_loc\u001b[0m\u001b[0;34m(\u001b[0m\u001b[0mkey\u001b[0m\u001b[0;34m)\u001b[0m\u001b[0;34m\u001b[0m\u001b[0;34m\u001b[0m\u001b[0m\n\u001b[0m\u001b[1;32m   3808\u001b[0m             \u001b[0;32mif\u001b[0m \u001b[0mis_integer\u001b[0m\u001b[0;34m(\u001b[0m\u001b[0mindexer\u001b[0m\u001b[0;34m)\u001b[0m\u001b[0;34m:\u001b[0m\u001b[0;34m\u001b[0m\u001b[0;34m\u001b[0m\u001b[0m\n\u001b[1;32m   3809\u001b[0m                 \u001b[0mindexer\u001b[0m \u001b[0;34m=\u001b[0m \u001b[0;34m[\u001b[0m\u001b[0mindexer\u001b[0m\u001b[0;34m]\u001b[0m\u001b[0;34m\u001b[0m\u001b[0;34m\u001b[0m\u001b[0m\n",
            "\u001b[0;32m/usr/local/lib/python3.10/dist-packages/pandas/core/indexes/base.py\u001b[0m in \u001b[0;36mget_loc\u001b[0;34m(self, key, method, tolerance)\u001b[0m\n\u001b[1;32m   3802\u001b[0m                 \u001b[0;32mreturn\u001b[0m \u001b[0mself\u001b[0m\u001b[0;34m.\u001b[0m\u001b[0m_engine\u001b[0m\u001b[0;34m.\u001b[0m\u001b[0mget_loc\u001b[0m\u001b[0;34m(\u001b[0m\u001b[0mcasted_key\u001b[0m\u001b[0;34m)\u001b[0m\u001b[0;34m\u001b[0m\u001b[0;34m\u001b[0m\u001b[0m\n\u001b[1;32m   3803\u001b[0m             \u001b[0;32mexcept\u001b[0m \u001b[0mKeyError\u001b[0m \u001b[0;32mas\u001b[0m \u001b[0merr\u001b[0m\u001b[0;34m:\u001b[0m\u001b[0;34m\u001b[0m\u001b[0;34m\u001b[0m\u001b[0m\n\u001b[0;32m-> 3804\u001b[0;31m                 \u001b[0;32mraise\u001b[0m \u001b[0mKeyError\u001b[0m\u001b[0;34m(\u001b[0m\u001b[0mkey\u001b[0m\u001b[0;34m)\u001b[0m \u001b[0;32mfrom\u001b[0m \u001b[0merr\u001b[0m\u001b[0;34m\u001b[0m\u001b[0;34m\u001b[0m\u001b[0m\n\u001b[0m\u001b[1;32m   3805\u001b[0m             \u001b[0;32mexcept\u001b[0m \u001b[0mTypeError\u001b[0m\u001b[0;34m:\u001b[0m\u001b[0;34m\u001b[0m\u001b[0;34m\u001b[0m\u001b[0m\n\u001b[1;32m   3806\u001b[0m                 \u001b[0;31m# If we have a listlike key, _check_indexing_error will raise\u001b[0m\u001b[0;34m\u001b[0m\u001b[0;34m\u001b[0m\u001b[0m\n",
            "\u001b[0;31mKeyError\u001b[0m: 'books'"
          ]
        }
      ]
    },
    {
      "cell_type": "code",
      "source": [
        "#BLOCK 8 - strong correlations and wearables\n",
        "\n",
        "from pandas.core.frame import DataFrame\n",
        "import pandas as pd\n",
        "import numpy as np\n",
        "import seaborn as sns\n",
        "from sklearn.metrics import accuracy_score\n",
        "\n",
        "#preprocessing\n",
        "df = pd.read_csv('irritability_anger_table_csv.csv')\n",
        "\n",
        "from sklearn.model_selection import train_test_split\n",
        "import matplotlib.pyplot as plt\n",
        "from sklearn.linear_model import LogisticRegression\n",
        "\n",
        "#PREPROCESSING\n",
        "#replacing True with 1 and False with 0\n",
        "#dependent\n",
        "df['smart_watch'].replace({'False': 0, 'True': 1}, inplace=True)\n",
        "df['fitness_tracker'].replace({'False': 0, 'True': 1}, inplace=True)\n",
        "df['jewellery'].replace({'False': 0, 'True': 1}, inplace=True)\n",
        "df['other'].replace({'False': 0, 'True': 1}, inplace=True)\n",
        "\n",
        "#PLOTTING 1 - IRRITABILITY & ANGER VS. SMART WATCH\n",
        "# Plotting logreg curve - cramps vs. smart_watch\n",
        "\n",
        "# x = df['i_and_a']\n",
        "# y = df['smart_watch']\n",
        "# sns.regplot(x=x, y=y, data=df, logistic=True, ci=None)\n",
        "\n",
        "# x = df['i_and_a']\n",
        "# y = df['fitness_tracker']\n",
        "# sns.regplot(x=x, y=y, data=df, logistic=True, ci=None)\n",
        "\n",
        "# x = df['i_and_a']\n",
        "# y = df['jewellery']\n",
        "# sns.regplot(x=x, y=y, data=df, logistic=True, ci=None)\n",
        "\n",
        "# x = df['i_and_a']\n",
        "# y = df['other']\n",
        "# sns.regplot(x=x, y=y, data=df, logistic=True, ci=None)\n",
        "\n",
        "#PLOTTING 2 - BREAST TENDERNESS & LOW MOOD VS. WEARABLES\n",
        "# Plotting logreg curve - cramps vs. smart_watch\n",
        "\n",
        "x = df['lm_and_bt']\n",
        "y = df['smart_watch']\n",
        "#sns.regplot(x=x, y=y, data=df, logistic=True, ci=None)\n",
        "\n",
        "# y = df['fitness_tracker']\n",
        "# sns.regplot(x=x, y=y, data=df, logistic=True, ci=None)\n",
        "\n",
        "# y = df['jewellery']\n",
        "# sns.regplot(x=x, y=y, data=df, logistic=True, ci=None)\n",
        "\n",
        "# y = df['other']\n",
        "# sns.regplot(x=x, y=y, data=df, logistic=True, ci=None)\n",
        "\n",
        "#PLOTTING 3 - CRAVINGS AND APPETITE CHANGES & FOG VS. WEARABLES\n",
        "# Plotting logreg curve\n",
        "\n",
        "x = df['c_and_f']\n",
        "y = df['smart_watch']\n",
        "sns.regplot(x=x, y=y, data=df, logistic=True, ci=None)\n",
        "\n",
        "y = df['fitness_tracker']\n",
        "sns.regplot(x=x, y=y, data=df, logistic=True, ci=None)\n",
        "\n",
        "y = df['jewellery']\n",
        "sns.regplot(x=x, y=y, data=df, logistic=True, ci=None)\n",
        "\n",
        "y = df['other']\n",
        "sns.regplot(x=x, y=y, data=df, logistic=True, ci=None)"
      ],
      "metadata": {
        "id": "2p5EDY0E5gIb",
        "colab": {
          "base_uri": "https://localhost:8080/",
          "height": 467
        },
        "outputId": "169957c6-8703-4fd2-bb44-a7eb1244180b"
      },
      "execution_count": null,
      "outputs": [
        {
          "output_type": "execute_result",
          "data": {
            "text/plain": [
              "<Axes: xlabel='c_and_f', ylabel='other'>"
            ]
          },
          "metadata": {},
          "execution_count": 8
        },
        {
          "output_type": "display_data",
          "data": {
            "text/plain": [
              "<Figure size 640x480 with 1 Axes>"
            ],
            "image/png": "[encoded data removed]"
          },
          "metadata": {}
        }
      ]
    }
  ]
}